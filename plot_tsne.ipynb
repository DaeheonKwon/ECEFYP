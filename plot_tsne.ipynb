{
 "cells": [
  {
   "cell_type": "code",
   "execution_count": 28,
   "metadata": {},
   "outputs": [],
   "source": [
    "'''Notebook cell for plotting tsne plot from model parameters'''\n",
    "\n",
    "from sklearn.manifold import TSNE\n",
    "import seaborn as sns\n",
    "import matplotlib.pyplot as plt\n",
    "import pandas as pd\n",
    "import torch\n",
    "from model import SciCNN\n",
    "\n",
    "\n",
    "for i in range(10):\n",
    "    for j in range(8):\n",
    "        model = SciCNN()\n",
    "        model.load_state_dict(torch.load(f'../model_fine/model_{i}_{j}.pt')['model'])\n",
    "\n",
    "        # Convert the model.npc.position to numpy array\n",
    "        positions = model.npc.position.detach().cpu().squeeze().numpy()\n",
    "\n",
    "        # Convert the model.npc.label to numpy array\n",
    "        labels = model.npc.label.detach().cpu().numpy()\n",
    "\n",
    "        label_names = ['non-seizure', 'seizure']\n",
    "\n",
    "        # Apply t-SNE to reduce the dimensionality\n",
    "        tsne = TSNE(n_components=2)\n",
    "        tsne_positions = tsne.fit_transform(positions)\n",
    "\n",
    "        # Create a DataFrame with the t-SNE positions and labels\n",
    "        df_tsne = pd.DataFrame({'x': tsne_positions[:, 0], 'y': tsne_positions[:, 1], 'label': [label_names[int(label)] for label in labels]})\n",
    "\n",
    "        plt.figure(figsize=(6, 5))\n",
    "        # Plot the t-SNE map with hue as the label\n",
    "        sns.scatterplot(data=df_tsne, x='x', y='y', hue='label', palette='Set2')\n",
    "        plt.legend(title=None)\n",
    "        plt.xlabel('t-SNE 1')\n",
    "        plt.ylabel('t-SNE 2')\n",
    "        plt.title(f't-SNE Fold {j}, Epoch {i}')\n",
    "        plt.savefig(f'../figures/tsne/Fold{j}_Epoch{i}', dpi=500)\n",
    "        plt.close()"
   ]
  }
 ],
 "metadata": {
  "kernelspec": {
   "display_name": "EEG",
   "language": "python",
   "name": "python3"
  },
  "language_info": {
   "codemirror_mode": {
    "name": "ipython",
    "version": 3
   },
   "file_extension": ".py",
   "mimetype": "text/x-python",
   "name": "python",
   "nbconvert_exporter": "python",
   "pygments_lexer": "ipython3",
   "version": "3.12.3"
  }
 },
 "nbformat": 4,
 "nbformat_minor": 2
}
