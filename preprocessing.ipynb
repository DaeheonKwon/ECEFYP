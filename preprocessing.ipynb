{
 "cells": [
  {
   "cell_type": "code",
   "execution_count": 29,
   "metadata": {},
   "outputs": [
    {
     "name": "stdout",
     "output_type": "stream",
     "text": [
      "Extracting EDF parameters from /Users/daeheonkwon/Archives/physionet.org/files/chbmit/1.0.0/chb10/chb10_07.edf...\n",
      "EDF file detected\n",
      "Setting channel info structure...\n",
      "Creating raw.info structure...\n"
     ]
    },
    {
     "name": "stderr",
     "output_type": "stream",
     "text": [
      "/var/folders/6w/k23nn3h524ncdtw1gzr_c3th0000gn/T/ipykernel_52207/2421748341.py:28: RuntimeWarning: Channel names are not unique, found duplicates for: {'T8-P8'}. Applying running numbers for duplicates.\n",
      "  raw = mne.io.read_raw_edf(file)\n",
      "/var/folders/6w/k23nn3h524ncdtw1gzr_c3th0000gn/T/ipykernel_52207/2421748341.py:28: RuntimeWarning: Number of records from the header does not match the file size (perhaps the recording was not stopped before exiting). Inferring from the file size.\n",
      "  raw = mne.io.read_raw_edf(file)\n"
     ]
    },
    {
     "ename": "NameError",
     "evalue": "name 'events' is not defined",
     "output_type": "error",
     "traceback": [
      "\u001b[0;31m---------------------------------------------------------------------------\u001b[0m",
      "\u001b[0;31mNameError\u001b[0m                                 Traceback (most recent call last)",
      "Cell \u001b[0;32mIn[29], line 35\u001b[0m\n\u001b[1;32m     33\u001b[0m \u001b[38;5;28;01melse\u001b[39;00m:\n\u001b[1;32m     34\u001b[0m     event_id \u001b[38;5;241m=\u001b[39m \u001b[38;5;241m0\u001b[39m\n\u001b[0;32m---> 35\u001b[0m epochs \u001b[38;5;241m=\u001b[39m mne\u001b[38;5;241m.\u001b[39mEpochs(raw, \u001b[43mevents\u001b[49m, event_id\u001b[38;5;241m=\u001b[39mevent_id, tmin\u001b[38;5;241m=\u001b[39m\u001b[38;5;241m-\u001b[39m\u001b[38;5;241m1\u001b[39m, tmax\u001b[38;5;241m=\u001b[39m\u001b[38;5;241m1\u001b[39m, baseline\u001b[38;5;241m=\u001b[39m\u001b[38;5;28;01mNone\u001b[39;00m, preload\u001b[38;5;241m=\u001b[39m\u001b[38;5;28;01mTrue\u001b[39;00m)\n\u001b[1;32m     36\u001b[0m epochs\u001b[38;5;241m.\u001b[39mdrop_bad()  \u001b[38;5;66;03m# Optional: Drop bad epochs\u001b[39;00m\n\u001b[1;32m     37\u001b[0m epochs\u001b[38;5;241m.\u001b[39mpick_types(eeg\u001b[38;5;241m=\u001b[39m\u001b[38;5;28;01mTrue\u001b[39;00m)  \u001b[38;5;66;03m# Optional: Pick EEG channels only\u001b[39;00m\n",
      "\u001b[0;31mNameError\u001b[0m: name 'events' is not defined"
     ]
    }
   ],
   "source": [
    "import mne\n",
    "import os\n",
    "\n",
    "datapath = '/Users/daeheonkwon/Archives/physionet.org/files/chbmit/1.0.0/'\n",
    "\n",
    "edf_files = []\n",
    "seizure_files = []\n",
    "for root, dirs, files in os.walk(datapath):\n",
    "    for file in files:\n",
    "        if file.endswith(\".edf\"):\n",
    "            edf_files.append(os.path.join(root, file))\n",
    "\n",
    "# Group the edf_files by patient number\n",
    "grouped_files = {}\n",
    "for file in edf_files:\n",
    "    patient_number = file.split('/')[-2]\n",
    "    if patient_number not in grouped_files:\n",
    "        grouped_files[patient_number] = []\n",
    "    grouped_files[patient_number].append(file)\n"
   ]
  },
  {
   "cell_type": "code",
   "execution_count": null,
   "metadata": {},
   "outputs": [],
   "source": [
    "\n",
    "# Read each file and store it epoch-wise\n",
    "epoch_dict = {}\n",
    "for patient_number, files in grouped_files.items():\n",
    "    epochs = []\n",
    "    for file in files:\n",
    "        raw = mne.io.read_raw_edf(file)\n",
    "        if file.replace('.edf', '.seizures') in seizure_files:\n",
    "            seizure_file = file.replace('.edf', '.seizures')\n",
    "            events = mne.read_annotations(seizure_files)\n",
    "            event_id = {'Seizure': 1, 'Non-Seizure': 0}  # Modify as per your event labels\n",
    "        else:\n",
    "            \n",
    "            event_id = 0\n",
    "        epochs = mne.Epochs(raw, events, event_id=event_id, tmin=-1, tmax=1, baseline=None, preload=True)\n",
    "        epochs.drop_bad()  # Optional: Drop bad epochs\n",
    "        epochs.pick_types(eeg=True)  # Optional: Pick EEG channels only\n",
    "        epochs.load_data()  # Optional: Load data into memory\n",
    "        epochs.resample(100)  # Optional: Resample to desired sampling rate\n",
    "        epochs.append(epochs)  # Append epochs to the list\n",
    "    epoch_dict[patient_number] = epochs\n",
    "\n",
    "epoch_dict"
   ]
  },
  {
   "cell_type": "code",
   "execution_count": 53,
   "metadata": {},
   "outputs": [
    {
     "name": "stdout",
     "output_type": "stream",
     "text": [
      "Extracting EDF parameters from /Users/daeheonkwon/Archives/physionet.org/files/chbmit/1.0.0/chb01/chb01_03.edf...\n",
      "EDF file detected\n",
      "Setting channel info structure...\n",
      "Creating raw.info structure...\n"
     ]
    },
    {
     "name": "stderr",
     "output_type": "stream",
     "text": [
      "/var/folders/6w/k23nn3h524ncdtw1gzr_c3th0000gn/T/ipykernel_52207/3028695587.py:2: RuntimeWarning: Channel names are not unique, found duplicates for: {'T8-P8'}. Applying running numbers for duplicates.\n",
      "  raw = mne.io.read_raw_edf(test_file)\n"
     ]
    }
   ],
   "source": [
    "test_file = '/Users/daeheonkwon/Archives/physionet.org/files/chbmit/1.0.0/chb01/chb01_03.edf'\n",
    "raw = mne.io.read_raw_edf(test_file)\n",
    "test_path = '/Users/daeheonkwon/Archives/physionet.org/files/chbmit/1.0.0/'\n",
    "for root, dirs, files in os.walk(test_path):\n",
    "    for file in files:\n",
    "        if file.endswith('.seizures.edf'):\n",
    "            os.system('rm' + ' ' + os.path.join(root, file))\n"
   ]
  },
  {
   "cell_type": "code",
   "execution_count": 59,
   "metadata": {},
   "outputs": [
    {
     "name": "stdout",
     "output_type": "stream",
     "text": [
      "Extracting EDF parameters from /Users/daeheonkwon/Archives/physionet.org/files/chbmit/1.0.0/chb01/chb01_03.edf...\n",
      "EDF file detected\n",
      "Setting channel info structure...\n",
      "Creating raw.info structure...\n",
      "Not setting metadata\n",
      "3600 matching events found\n",
      "No baseline correction applied\n",
      "0 projection items activated\n",
      "Loading data for 3600 events and 257 original time points ...\n"
     ]
    },
    {
     "name": "stderr",
     "output_type": "stream",
     "text": [
      "/var/folders/6w/k23nn3h524ncdtw1gzr_c3th0000gn/T/ipykernel_52207/2223281710.py:1: RuntimeWarning: Channel names are not unique, found duplicates for: {'T8-P8'}. Applying running numbers for duplicates.\n",
      "  raw = mne.io.read_raw_edf(test_file)\n"
     ]
    },
    {
     "name": "stdout",
     "output_type": "stream",
     "text": [
      "1 bad epochs dropped\n"
     ]
    },
    {
     "data": {
      "text/plain": [
       "array([[     0,      0,      1],\n",
       "       [   256,      0,      1],\n",
       "       [   512,      0,      1],\n",
       "       ...,\n",
       "       [920832,      0,      1],\n",
       "       [921088,      0,      1],\n",
       "       [921344,      0,      1]])"
      ]
     },
     "execution_count": 59,
     "metadata": {},
     "output_type": "execute_result"
    }
   ],
   "source": [
    "raw = mne.io.read_raw_edf(test_file)\n",
    "events = mne.make_fixed_length_events(raw, duration=1)\n",
    "epochs = mne.Epochs(raw, events, event_id=1, tmin=0, tmax=1, baseline=None, preload=True)\n",
    "events"
   ]
  }
 ],
 "metadata": {
  "kernelspec": {
   "display_name": "EEG",
   "language": "python",
   "name": "python3"
  },
  "language_info": {
   "codemirror_mode": {
    "name": "ipython",
    "version": 3
   },
   "file_extension": ".py",
   "mimetype": "text/x-python",
   "name": "python",
   "nbconvert_exporter": "python",
   "pygments_lexer": "ipython3",
   "version": "3.12.2"
  }
 },
 "nbformat": 4,
 "nbformat_minor": 2
}
