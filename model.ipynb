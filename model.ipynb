{
 "cells": [
  {
   "cell_type": "code",
   "execution_count": 35,
   "metadata": {},
   "outputs": [],
   "source": [
    "import torch\n",
    "import torch.nn as nn\n",
    "from torch.optim import Optimizer\n",
    "from torch.utils.data import DataLoader\n",
    "\n",
    "\n",
    "# Set the random seed\n",
    "torch.manual_seed(0)\n",
    "\n",
    "'''\n",
    "assume that datasets are given, after preprocessing\n",
    "'''\n",
    "# Set the random seed\n",
    "torch.manual_seed(0)\n",
    "\n",
    "train_dataset = []\n",
    "for i in range(10):\n",
    "    if i <=5 :\n",
    "        train_dataset += list(zip(torch.stack([torch.normal(0, 1, (22, 128, 8)) for _ in range(50)]), torch.zeros(50, dtype=torch.int)))\n",
    "    else:\n",
    "        train_dataset += list(zip(torch.stack([torch.normal(5, 1, (22, 128, 8)) for _ in range(50)]), torch.ones(50, dtype=torch.int)))\n",
    "\n",
    "test_dataset = []\n",
    "for i in range(10):\n",
    "    if i <=5 :\n",
    "        test_dataset += list(zip(torch.stack([torch.normal(0, 1, (22, 128, 8)) for _ in range(50)]), torch.zeros(50, dtype=torch.int)))\n",
    "    else:\n",
    "        test_dataset += list(zip(torch.stack([torch.normal(5, 1, (22, 128, 8)) for _ in range(50)]), torch.ones(50, dtype=torch.int)))\n",
    "\n",
    "validation_dataset = []\n",
    "for i in range(10):\n",
    "    if i <=5 :\n",
    "        validation_dataset += list(zip(torch.stack([torch.normal(0, 1, (22, 128, 8)) for _ in range(50)]), torch.zeros(50, dtype=torch.int)))\n",
    "    else:\n",
    "        validation_dataset += list(zip(torch.stack([torch.normal(5, 1, (22, 128, 8)) for _ in range(50)]), torch.ones(50, dtype=torch.int)))"
   ]
  },
  {
   "cell_type": "code",
   "execution_count": 3,
   "metadata": {},
   "outputs": [],
   "source": [
    "import os\n",
    "import torch\n",
    "from torch.utils.data import Dataset, DataLoader, random_split, Subset\n",
    "\n",
    "class CustomEEGDataset(Dataset):\n",
    "    def __init__(self, dataset, transform=None, target_transform=None):\n",
    "        self.raw = dataset\n",
    "        self.EEG = torch.stack([t[0] for t in self.raw])\n",
    "        self.labels = torch.stack([t[1] for t in self.raw])\n",
    "        self.transform = transform\n",
    "        self.target_transform = target_transform\n",
    "\n",
    "    def __len__(self):\n",
    "        return len(self.labels)\n",
    "\n",
    "    def __getitem__(self, idx):\n",
    "        image = self.EEG[idx]\n",
    "        label = self.labels[idx]\n",
    "        if self.transform:\n",
    "            image = self.transform(image)\n",
    "        if self.target_transform:\n",
    "            label = self.target_transform(label)\n",
    "        return image, label\n",
    "\n",
    "generator = torch.Generator().manual_seed(42)\n",
    "\n",
    "def split_datasets(dataset, train_ratio=0.6, val_ratio=0.2, test_ratio=0.2, generator=None):\n",
    "    train_size = int(train_ratio * len(dataset))\n",
    "    val_size = int(val_ratio * len(dataset))\n",
    "    test_size = len(dataset) - train_size - val_size\n",
    "    return random_split(dataset, [train_size, val_size, test_size], generator=generator)\n",
    "\n",
    "train_dataset, validation_dataset, test_dataset = split_datasets(torch.load('/Users/daeheonkwon/Documents/ECEFYP/data/chb21.pt'), train_ratio=0.6, val_ratio=0.2, test_ratio=0.2, generator=generator)"
   ]
  },
  {
   "cell_type": "code",
   "execution_count": 59,
   "metadata": {},
   "outputs": [
    {
     "data": {
      "text/plain": [
       "([66068, 71229, 73794, 78264], [66348, 71480, 74197, 78327])"
      ]
     },
     "execution_count": 59,
     "metadata": {},
     "output_type": "execute_result"
    }
   ],
   "source": [
    "indices = []\n",
    "for i in range(len(chb21.labels)):\n",
    "    if chb21.labels[i] == 1:\n",
    "        indices.append(i)\n",
    "\n",
    "start_indices = [indices[0]]\n",
    "end_indices = []\n",
    "for i in range(1, len(indices)):\n",
    "    if indices[i] != indices[i-1] + 1:\n",
    "        end_indices.append(indices[i-1])\n",
    "        start_indices.append(indices[i])\n",
    "end_indices.append(indices[-1])\n",
    "\n",
    "start_indices, end_indices\n",
    "\n"
   ]
  },
  {
   "cell_type": "code",
   "execution_count": 4,
   "metadata": {},
   "outputs": [],
   "source": [
    "train_dataset = CustomEEGDataset(train_dataset)\n",
    "validation_dataset = CustomEEGDataset(validation_dataset)\n",
    "test_dataset = CustomEEGDataset(test_dataset)\n",
    "\n",
    "def get_dataloaders(dataset, batch_size=50):\n",
    "    class_inds = [torch.where(dataset.labels == class_idx)[0]\n",
    "                for class_idx in torch.unique(dataset.labels)]\n",
    "\n",
    "    dataloaders = [\n",
    "        DataLoader(\n",
    "            dataset=Subset(dataset, inds),\n",
    "            batch_size=batch_size,\n",
    "            shuffle=True,\n",
    "            drop_last=False)\n",
    "        for inds in class_inds]\n",
    "    \n",
    "    return dataloaders"
   ]
  },
  {
   "cell_type": "code",
   "execution_count": 238,
   "metadata": {},
   "outputs": [
    {
     "data": {
      "text/plain": [
       "[<torch.utils.data.dataloader._SingleProcessDataLoaderIter at 0x4270b9940>,\n",
       " <torch.utils.data.dataloader._SingleProcessDataLoaderIter at 0x4270ba2a0>]"
      ]
     },
     "execution_count": 238,
     "metadata": {},
     "output_type": "execute_result"
    }
   ],
   "source": [
    "import numpy as np\n",
    "iterators = list(map(iter, get_dataloaders(train_dataset)))\n",
    "iterators"
   ]
  },
  {
   "cell_type": "code",
   "execution_count": 222,
   "metadata": {},
   "outputs": [
    {
     "data": {
      "text/plain": [
       "13"
      ]
     },
     "execution_count": 222,
     "metadata": {},
     "output_type": "execute_result"
    }
   ],
   "source": [
    "len(iterators[1])"
   ]
  },
  {
   "cell_type": "code",
   "execution_count": 239,
   "metadata": {},
   "outputs": [
    {
     "data": {
      "text/plain": [
       "<itertools.chain at 0x424a43790>"
      ]
     },
     "execution_count": 239,
     "metadata": {},
     "output_type": "execute_result"
    }
   ],
   "source": [
    "from itertools import chain\n",
    "\n",
    "iterators = chain(*iterators)\n",
    "iterators   "
   ]
  },
  {
   "cell_type": "code",
   "execution_count": 240,
   "metadata": {},
   "outputs": [],
   "source": [
    "sum=0\n",
    "while True:\n",
    "    try:\n",
    "        sum+=1\n",
    "        next(iterators)\n",
    "    except StopIteration:\n",
    "        break"
   ]
  },
  {
   "cell_type": "code",
   "execution_count": 264,
   "metadata": {},
   "outputs": [
    {
     "data": {
      "text/plain": [
       "tensor([1, 2, 3, 4, 5, 6])"
      ]
     },
     "execution_count": 264,
     "metadata": {},
     "output_type": "execute_result"
    }
   ],
   "source": [
    "a = torch.tensor([1, 2, 3])\n",
    "b = torch.tensor([4, 5, 6])\n",
    "torch.cat([a, b])"
   ]
  },
  {
   "cell_type": "code",
   "execution_count": 291,
   "metadata": {},
   "outputs": [
    {
     "name": "stdout",
     "output_type": "stream",
     "text": [
      "[array([0, 0, 0]), array([1, 1, 1, 1]), array([0, 0]), array([1, 1, 1, 1, 1]), array([0, 0, 0])]\n",
      "[array([0, 1, 0]), array([0, 0, 0, 1]), array([0, 0]), array([0, 1, 1, 1, 0]), array([0, 0, 1])]\n",
      "[array([0, 0, 0]), 1, array([0, 0]), 1, array([0, 0, 0])]\n",
      "[array([0, 1, 0]), 1, array([0, 0]), 1, array([0, 0, 1])]\n"
     ]
    }
   ],
   "source": [
    "a = np.array([0, 0, 0, 1, 1, 1, 1, 0, 0, 1, 1, 1, 1, 1, 0, 0, 0])\n",
    "b = np.array([0, 1, 0, 0, 0, 0, 1, 0, 0, 0, 1, 1, 1, 0, 0, 0, 1])\n",
    "clusters = np.split(a, np.where(np.diff(a) != 0)[0]+1)\n",
    "pred_clusters = np.split(b, np.where(np.diff(a) != 0)[0]+1)\n",
    "print(clusters)\n",
    "print(pred_clusters)\n",
    "\n",
    "cluster_labels = []\n",
    "cluster_preds = []\n",
    "\n",
    "for i, cluster in enumerate(clusters):\n",
    "    if np.count_nonzero(cluster) > 0:\n",
    "        cluster_labels.append(1)\n",
    "        if np.count_nonzero(pred_clusters[i]) > 0:\n",
    "            cluster_preds.append(1)\n",
    "        else:\n",
    "            cluster_preds.append(0)\n",
    "    else:\n",
    "        cluster_labels.append(cluster)\n",
    "        cluster_preds.append(pred_clusters[i])\n",
    "\n",
    "\n",
    "\n",
    "print(cluster_labels)\n",
    "print(cluster_preds)\n"
   ]
  },
  {
   "cell_type": "code",
   "execution_count": 254,
   "metadata": {},
   "outputs": [
    {
     "data": {
      "text/plain": [
       "[array([0, 1, 0]),\n",
       " array([0]),\n",
       " array([], dtype=int64),\n",
       " array([0, 0, 0, 1, 1, 0, 0, 0, 1, 1, 1, 0, 0, 0, 1])]"
      ]
     },
     "execution_count": 254,
     "metadata": {},
     "output_type": "execute_result"
    }
   ],
   "source": [
    "np.split(b, [3, 4, 2])"
   ]
  },
  {
   "cell_type": "code",
   "execution_count": 4,
   "metadata": {},
   "outputs": [],
   "source": [
    "''' Defining the model'''\n",
    "from tqdm.notebook import tqdm\n",
    "import numpy as np\n",
    "import torch.nn as nn\n",
    "torch.manual_seed(0)\n",
    "\n",
    "class SciCNN(nn.Module):\n",
    "\n",
    "    def __init__(self):\n",
    "        super(SciCNN, self).__init__()        \n",
    "\n",
    "        self.inception1 = Inception(8, 8, 16, 8, 8)\n",
    "        self.maxpool1 = nn.MaxPool2d((1, 4), stride=(1, 4), ceil_mode=True)\n",
    "        self.inception2 = Inception(16, 16, 8, 16, 4)\n",
    "        self.maxpool2 = nn.MaxPool2d((1, 4), stride=(1, 4), ceil_mode=True)\n",
    "        self.inception3 = Inception(32, 32, 4, 32, 2)\n",
    "        self.maxpool3 = nn.MaxPool2d((1, 8), stride=(1, 8), ceil_mode=True)\n",
    "        self.flatten = nn.Flatten()\n",
    "        self.dropout = nn.Dropout(0.4)\n",
    "        self.fc = nn.Linear(22*64, 16)\n",
    "        self.npc = NPC()\n",
    "        \n",
    "        for m in self.modules():\n",
    "            if isinstance(m, nn.Conv2d) or isinstance(m, nn.Linear):\n",
    "                torch.nn.init.xavier_uniform_(m.weight)\n",
    "\n",
    "    def forward(self, x):\n",
    "        x = x.permute(0, 3, 1, 2)\n",
    "        x = self.inception1(x)\n",
    "        x = self.maxpool1(x)\n",
    "        x = self.inception2(x)\n",
    "        x = self.maxpool2(x)\n",
    "        x = self.inception3(x)\n",
    "        x = self.maxpool3(x)\n",
    "        x = self.flatten(x)\n",
    "        # x = self.dropout(x)\n",
    "        x = self.fc(x)\n",
    "        return x\n",
    "\n",
    "class Inception(nn.Module):\n",
    "    def __init__(self, in_channels, ch1, ch1_kernel, ch2, ch2_kernel):\n",
    "        super(Inception, self).__init__()\n",
    "        self.branch1 = BasicConv1d(in_channels, ch1, kernel=(1, ch1_kernel), padding=(0, (ch1_kernel-1)//2))\n",
    "        self.branch2 = BasicConv1d(in_channels, ch2, kernel=(1, ch2_kernel), padding=(0, (ch2_kernel-1)//2))\n",
    "        self.se = SEModule()\n",
    "\n",
    "    def forward(self, x):\n",
    "        branch1 = self.branch1(x)\n",
    "        branch2 = self.branch2(x)\n",
    "        concat = torch.cat([branch1, branch2], dim=1)\n",
    "        return self.se(concat)\n",
    "        \n",
    "class SEModule(nn.Module):\n",
    "    def __init__(self, channels=22, reduction=4):\n",
    "        super(SEModule, self).__init__()\n",
    "        self.globalAvgPool = nn.AdaptiveAvgPool2d(1)\n",
    "        self.fc = nn.Sequential(\n",
    "            nn.Linear(channels, channels // reduction),\n",
    "            nn.ReLU(),\n",
    "            nn.Linear(channels // reduction, channels),\n",
    "            nn.Sigmoid()\n",
    "        )\n",
    "\n",
    "    def forward(self, x):\n",
    "        x = x.permute(0, 2, 3, 1)\n",
    "        out = torch.squeeze(self.globalAvgPool(x))\n",
    "        out = self.fc(out).view(x.size(0), x.size(1), 1, 1)\n",
    "        out = x * out.expand_as(x)\n",
    "        # return out.permute(0, 3, 1, 2)\n",
    "        return x.permute(0, 3, 1, 2)\n",
    "    \n",
    "class BasicConv1d(nn.Module): \n",
    "    def __init__(self, in_channels, out_channels, kernel, padding):\n",
    "        super(BasicConv1d, self).__init__()\n",
    "        self.conv = nn.Sequential(\n",
    "                            nn.Conv2d(in_channels, out_channels, kernel_size=kernel, padding=padding, bias=True),\n",
    "                            nn.BatchNorm2d(out_channels),\n",
    "                            nn.ReLU()\n",
    "                            )\n",
    "    \n",
    "    def forward(self, x):\n",
    "        return self.conv(x)\n",
    "    \n",
    "class NPC(nn.Module):\n",
    "    def __init__(self, num_clusters=256):\n",
    "        super(NPC, self).__init__()\n",
    "        # 256 predefined positions of NPC clusters\n",
    "        self.position = nn.Parameter(torch.from_numpy(np.random.uniform(0, 1, (num_clusters, 16, 1))).to(torch.float32), requires_grad=True)\n",
    "        self.label = nn.Parameter(torch.ones(num_clusters), requires_grad=False)\n"
   ]
  },
  {
   "cell_type": "code",
   "execution_count": 6,
   "metadata": {},
   "outputs": [
    {
     "data": {
      "application/vnd.jupyter.widget-view+json": {
       "model_id": "7d4a31865edc461d957ead6b440d3843",
       "version_major": 2,
       "version_minor": 0
      },
      "text/plain": [
       "  0%|          | 0/100 [00:00<?, ?it/s]"
      ]
     },
     "metadata": {},
     "output_type": "display_data"
    },
    {
     "name": "stdout",
     "output_type": "stream",
     "text": [
      "Epoch #0\n",
      "loss file saved! ../loss/val_loss_log\n",
      "Trainloss = 4.012 ValLoss = 6.566 TrainTime = 35.1880s ValTime = 14.8238s \n",
      "Sensitivity = 1 Specificity = 0 \n",
      "\n",
      "Epoch #1\n",
      "loss file saved! ../loss/val_loss_log\n",
      "Trainloss = 2.475 ValLoss = 3.638 TrainTime = 42.0769s ValTime = 11.3843s \n",
      "Sensitivity = 1 Specificity = 0 \n",
      "\n",
      "Epoch #2\n",
      "loss file saved! ../loss/val_loss_log\n",
      "Trainloss = 1.728 ValLoss = 1.874 TrainTime = 35.8953s ValTime = 7.2233s \n",
      "Sensitivity = 1 Specificity = 0 \n",
      "\n",
      "Epoch #3\n"
     ]
    },
    {
     "ename": "KeyboardInterrupt",
     "evalue": "",
     "output_type": "error",
     "traceback": [
      "\u001b[0;31m---------------------------------------------------------------------------\u001b[0m",
      "\u001b[0;31mKeyboardInterrupt\u001b[0m                         Traceback (most recent call last)",
      "Cell \u001b[0;32mIn[6], line 207\u001b[0m\n\u001b[1;32m    203\u001b[0m     plt\u001b[38;5;241m.\u001b[39mylabel(\u001b[38;5;124m'\u001b[39m\u001b[38;5;124mLoss\u001b[39m\u001b[38;5;124m'\u001b[39m)\n\u001b[1;32m    205\u001b[0m     plt\u001b[38;5;241m.\u001b[39msavefig(\u001b[38;5;124m'\u001b[39m\u001b[38;5;124m../figures/loss.png\u001b[39m\u001b[38;5;124m'\u001b[39m, dpi\u001b[38;5;241m=\u001b[39m\u001b[38;5;241m300\u001b[39m)\n\u001b[0;32m--> 207\u001b[0m \u001b[43mtrain\u001b[49m\u001b[43m(\u001b[49m\u001b[43m)\u001b[49m\n",
      "Cell \u001b[0;32mIn[6], line 147\u001b[0m, in \u001b[0;36mtrain\u001b[0;34m()\u001b[0m\n\u001b[1;32m    144\u001b[0m \u001b[38;5;28;01mfor\u001b[39;00m epoch \u001b[38;5;129;01min\u001b[39;00m tqdm(\u001b[38;5;28mrange\u001b[39m(num_epochs)):\n\u001b[1;32m    145\u001b[0m     \u001b[38;5;28mprint\u001b[39m(\u001b[38;5;124mf\u001b[39m\u001b[38;5;124m'\u001b[39m\u001b[38;5;124mEpoch #\u001b[39m\u001b[38;5;132;01m{\u001b[39;00mepoch\u001b[38;5;132;01m}\u001b[39;00m\u001b[38;5;124m'\u001b[39m)\n\u001b[0;32m--> 147\u001b[0m     train_loss, train_time \u001b[38;5;241m=\u001b[39m \u001b[43mtrain_epoch\u001b[49m\u001b[43m(\u001b[49m\u001b[43mmodel\u001b[49m\u001b[43m,\u001b[49m\u001b[43m \u001b[49m\u001b[43mtrain_dataloaders\u001b[49m\u001b[43m,\u001b[49m\u001b[43m \u001b[49m\u001b[43moptimizer\u001b[49m\u001b[43m,\u001b[49m\u001b[43m \u001b[49m\u001b[43mnpc_training_loss\u001b[49m\u001b[43m,\u001b[49m\u001b[43m \u001b[49m\u001b[43mdevice\u001b[49m\u001b[43m)\u001b[49m\n\u001b[1;32m    148\u001b[0m     val_loss, confusion_matrix, val_time \u001b[38;5;241m=\u001b[39m validate(model, val_dataloaders, npc_validation_loss, device)\n\u001b[1;32m    149\u001b[0m     scheduler\u001b[38;5;241m.\u001b[39mstep()\n",
      "Cell \u001b[0;32mIn[6], line 48\u001b[0m, in \u001b[0;36mtrain_epoch\u001b[0;34m(model, dataloaders, optimizer, loss_type, device)\u001b[0m\n\u001b[1;32m     46\u001b[0m images, labels \u001b[38;5;241m=\u001b[39m images\u001b[38;5;241m.\u001b[39mto(device), labels\u001b[38;5;241m.\u001b[39mto(device)\n\u001b[1;32m     47\u001b[0m optimizer\u001b[38;5;241m.\u001b[39mzero_grad()\n\u001b[0;32m---> 48\u001b[0m train_loss \u001b[38;5;241m=\u001b[39m \u001b[43mloss_type\u001b[49m\u001b[43m(\u001b[49m\u001b[43mmodel\u001b[49m\u001b[43m(\u001b[49m\u001b[43mimages\u001b[49m\u001b[43m)\u001b[49m\u001b[43m,\u001b[49m\u001b[43m \u001b[49m\u001b[43mlabels\u001b[49m\u001b[43m,\u001b[49m\u001b[43m \u001b[49m\u001b[43mmodel\u001b[49m\u001b[43m)\u001b[49m\n\u001b[1;32m     49\u001b[0m loss \u001b[38;5;241m+\u001b[39m\u001b[38;5;241m=\u001b[39m train_loss\u001b[38;5;241m.\u001b[39mitem()\n\u001b[1;32m     50\u001b[0m train_loss\u001b[38;5;241m.\u001b[39mbackward()\n",
      "Cell \u001b[0;32mIn[6], line 14\u001b[0m, in \u001b[0;36mnpc_training_loss\u001b[0;34m(output, label, model)\u001b[0m\n\u001b[1;32m     12\u001b[0m closest_position_index \u001b[38;5;241m=\u001b[39m torch\u001b[38;5;241m.\u001b[39margmin(distances)\n\u001b[1;32m     13\u001b[0m closest_position \u001b[38;5;241m=\u001b[39m model\u001b[38;5;241m.\u001b[39mnpc\u001b[38;5;241m.\u001b[39mposition[closest_position_index]\n\u001b[0;32m---> 14\u001b[0m loss \u001b[38;5;241m=\u001b[39m \u001b[43mtorch\u001b[49m\u001b[38;5;241;43m.\u001b[39;49m\u001b[43mnorm\u001b[49m\u001b[43m(\u001b[49m\u001b[43mmean_output\u001b[49m\u001b[43m \u001b[49m\u001b[38;5;241;43m-\u001b[39;49m\u001b[43m \u001b[49m\u001b[43mclosest_position\u001b[49m\u001b[43m)\u001b[49m\n\u001b[1;32m     15\u001b[0m \u001b[38;5;28;01mreturn\u001b[39;00m loss\n",
      "File \u001b[0;32m~/anaconda3/envs/EEG/lib/python3.12/site-packages/torch/functional.py:1495\u001b[0m, in \u001b[0;36mnorm\u001b[0;34m(input, p, dim, keepdim, out, dtype)\u001b[0m\n\u001b[1;32m   1489\u001b[0m     \u001b[38;5;129m@overload\u001b[39m  \u001b[38;5;66;03m# noqa: F811\u001b[39;00m\n\u001b[1;32m   1490\u001b[0m     \u001b[38;5;28;01mdef\u001b[39;00m \u001b[38;5;21mnorm\u001b[39m(\u001b[38;5;28minput\u001b[39m, p\u001b[38;5;241m=\u001b[39m\u001b[38;5;124m\"\u001b[39m\u001b[38;5;124mfro\u001b[39m\u001b[38;5;124m\"\u001b[39m, dim\u001b[38;5;241m=\u001b[39m\u001b[38;5;28;01mNone\u001b[39;00m, keepdim\u001b[38;5;241m=\u001b[39m\u001b[38;5;28;01mFalse\u001b[39;00m, out\u001b[38;5;241m=\u001b[39m\u001b[38;5;28;01mNone\u001b[39;00m, dtype\u001b[38;5;241m=\u001b[39m\u001b[38;5;28;01mNone\u001b[39;00m):  \u001b[38;5;66;03m# noqa: F811\u001b[39;00m\n\u001b[1;32m   1491\u001b[0m         \u001b[38;5;66;03m# type: (Tensor, str, Optional[int], bool, Optional[Tensor], Optional[int]) -> Tensor\u001b[39;00m\n\u001b[1;32m   1492\u001b[0m         \u001b[38;5;28;01mpass\u001b[39;00m\n\u001b[0;32m-> 1495\u001b[0m \u001b[38;5;28;01mdef\u001b[39;00m \u001b[38;5;21mnorm\u001b[39m(\u001b[38;5;28minput\u001b[39m, p: Optional[Union[\u001b[38;5;28mfloat\u001b[39m, \u001b[38;5;28mstr\u001b[39m]] \u001b[38;5;241m=\u001b[39m \u001b[38;5;124m\"\u001b[39m\u001b[38;5;124mfro\u001b[39m\u001b[38;5;124m\"\u001b[39m, dim\u001b[38;5;241m=\u001b[39m\u001b[38;5;28;01mNone\u001b[39;00m, keepdim\u001b[38;5;241m=\u001b[39m\u001b[38;5;28;01mFalse\u001b[39;00m, out\u001b[38;5;241m=\u001b[39m\u001b[38;5;28;01mNone\u001b[39;00m, dtype\u001b[38;5;241m=\u001b[39m\u001b[38;5;28;01mNone\u001b[39;00m):  \u001b[38;5;66;03m# noqa: F811\u001b[39;00m\n\u001b[1;32m   1496\u001b[0m \u001b[38;5;250m    \u001b[39m\u001b[38;5;124mr\u001b[39m\u001b[38;5;124;03m\"\"\"Returns the matrix norm or vector norm of a given tensor.\u001b[39;00m\n\u001b[1;32m   1497\u001b[0m \n\u001b[1;32m   1498\u001b[0m \u001b[38;5;124;03m    .. warning::\u001b[39;00m\n\u001b[0;32m   (...)\u001b[0m\n\u001b[1;32m   1586\u001b[0m \u001b[38;5;124;03m        (tensor(3.7417), tensor(11.2250))\u001b[39;00m\n\u001b[1;32m   1587\u001b[0m \u001b[38;5;124;03m    \"\"\"\u001b[39;00m\n\u001b[1;32m   1589\u001b[0m     \u001b[38;5;28;01mif\u001b[39;00m has_torch_function_unary(\u001b[38;5;28minput\u001b[39m):\n",
      "\u001b[0;31mKeyboardInterrupt\u001b[0m: "
     ]
    }
   ],
   "source": [
    "import numpy as np\n",
    "import torch\n",
    "import torch.nn as nn\n",
    "import time\n",
    "from matplotlib import pyplot as plt\n",
    "\n",
    "\n",
    "def npc_training_loss(output, label, model):\n",
    "    # output: (batch_size, 16, 1)\n",
    "    mean_output = torch.mean(output, dim=0)\n",
    "    distances = torch.norm(mean_output.view(1, -1, 1) - model.npc.position.data, dim=1).squeeze()\n",
    "    closest_position_index = torch.argmin(distances)\n",
    "    closest_position = model.npc.position[closest_position_index]\n",
    "    loss = torch.norm(mean_output - closest_position)\n",
    "    return loss\n",
    "\n",
    "def npc_validation_loss(output, model):\n",
    "    mean_output = torch.mean(output, dim=0)\n",
    "    \n",
    "    distances = torch.norm(mean_output.view(1, -1, 1) - model.npc.position.data, dim=1).squeeze()\n",
    "    \n",
    "    # Sort distances in descending order and get the sorted indexes\n",
    "    sorted_indexes = torch.argsort(distances, descending=False)\n",
    "    # Sort model.npc.position using the sorted indexes\n",
    "    sorted_labels = model.npc.label[sorted_indexes]\n",
    "    sorted_positions = model.npc.position[sorted_indexes]\n",
    "\n",
    "    for i, label in enumerate(sorted_labels):\n",
    "        if label != 2:\n",
    "            closest_position = sorted_positions[i]\n",
    "            closest_label = label\n",
    "            break\n",
    "\n",
    "    return torch.norm(mean_output - closest_position), closest_label\n",
    "\n",
    "def train_epoch(model, dataloaders, optimizer, loss_type, device):\n",
    "    model.train()\n",
    "    start_epoch = time.perf_counter()\n",
    "    loss = 0.\n",
    "    iterators = list(map(iter, dataloaders))\n",
    "    total_length = sum([len(itr) for itr in iterators])\n",
    "    while iterators:\n",
    "        iterator = np.random.choice(iterators)\n",
    "        try:\n",
    "            images, labels = next(iterator)\n",
    "            images, labels = images.to(device), labels.to(device)\n",
    "            optimizer.zero_grad()\n",
    "            train_loss = loss_type(model(images), labels, model)\n",
    "            loss += train_loss.item()\n",
    "            train_loss.backward()\n",
    "            optimizer.step()\n",
    "        except StopIteration:\n",
    "            iterators.remove(iterator)\n",
    "    return loss/total_length, time.perf_counter() - start_epoch\n",
    "\n",
    "'''Calibration: 2 minutes of seizure-free data / labeling NPC clusters'''\n",
    "def calibrate(model, dataloaders, device): \n",
    "    model.eval()\n",
    "    start = time.perf_counter()\n",
    "    iterators = list(map(iter, dataloaders))\n",
    "    iterators = iterators[0] # only use seizure-free class for calibration\n",
    "    with torch.no_grad():  # using context manager\n",
    "        for _ in range(128*120): # 128 samples per second, 120 seconds: 2-minute calibration\n",
    "            # or keep batch size 64 and run 240 times?\n",
    "            images, _ = next(iterators)\n",
    "            images = images.to(device)\n",
    "            output = model(images)\n",
    "            mean_output = torch.mean(output, dim=0) # unnecessary, since batch size is 1. left for consistency\n",
    "            distances = torch.norm(mean_output.view(1, -1, 1) - model.npc.position.data, dim=1).squeeze()\n",
    "            closest_position_index = torch.argmin(distances)\n",
    "            model.npc.label[closest_position_index] = 0\n",
    "    return time.perf_counter() - start\n",
    "\n",
    "def validate(model, dataloaders, loss_type, device):\n",
    "    model.eval()\n",
    "    start = time.perf_counter()\n",
    "    loss = 0.\n",
    "    confusion_matrix = np.zeros((2, 2))\n",
    "    iterators = list(map(iter, dataloaders))\n",
    "    total_length = sum([len(itr) for itr in iterators])\n",
    "    with torch.no_grad():  # using context manager\n",
    "        while iterators:\n",
    "            try:\n",
    "                iterator = np.random.choice(iterators)\n",
    "                images, labels = next(iterator)\n",
    "                images, labels = images.to(device), labels.to(device)\n",
    "                output = model(images)\n",
    "                val_loss = loss_type(output, model)\n",
    "                loss += val_loss[0].item()\n",
    "                pred = val_loss[1].item()\n",
    "                labels = labels.cpu().numpy()\n",
    "                confusion_matrix[0, 0] += np.sum(np.logical_and(pred == 0, labels == 0))\n",
    "                confusion_matrix[0, 1] += np.sum(np.logical_and(pred == 0, labels == 1))\n",
    "                confusion_matrix[1, 0] += np.sum(np.logical_and(pred == 1, labels == 0))\n",
    "                confusion_matrix[1, 1] += np.sum(np.logical_and(pred == 1, labels == 1))\n",
    "            except StopIteration:\n",
    "                iterators.remove(iterator)\n",
    "            \n",
    "    return loss/total_length, confusion_matrix/total_length, time.perf_counter() - start\n",
    "\n",
    "\n",
    "\n",
    "def save_model(exp_dir, epoch, model, optimizer, best_val_loss, is_new_best):\n",
    "    torch.save(\n",
    "        {\n",
    "        'epoch': epoch,\n",
    "        'model': model.state_dict(),\n",
    "        'optimizer': optimizer.state_dict(),\n",
    "        'best_val_loss': best_val_loss,\n",
    "        'exp_dir': exp_dir\n",
    "        },\n",
    "        f= exp_dir + '/model.pt'\n",
    "    )\n",
    "\n",
    "    if is_new_best[0]:\n",
    "        os.system(f'cp {exp_dir}/model.pt {exp_dir}/best_loss_model.pt')\n",
    "    if is_new_best[1]:\n",
    "        os.system(f'cp {exp_dir}/model.pt {exp_dir}/best_sensitivity_model.pt')\n",
    "    if is_new_best[2]:\n",
    "        os.system(f'cp {exp_dir}/model.pt {exp_dir}/best_specificity_model.pt')\n",
    "\n",
    "def train():\n",
    "    global device\n",
    "    device = torch.device(\"cuda:0\" if torch.cuda.is_available() else \"mps\" if torch.backends.mps.is_available() else \"cpu\")\n",
    "    global model\n",
    "    model = SciCNN().to(device)\n",
    "    optimizer = torch.optim.SGD(model.parameters(), lr=1e-5, momentum=0.9, weight_decay=1e-4)\n",
    "    scheduler = torch.optim.lr_scheduler.StepLR(optimizer, step_size=20, gamma=0.5)\n",
    "\n",
    "    num_epochs = 100\n",
    "\n",
    "    train_dataloaders = get_dataloaders(train_dataset)\n",
    "    val_dataloaders = get_dataloaders(validation_dataset)\n",
    "\n",
    "    best_val_loss = 1.\n",
    "\n",
    "    best_specificity = 0.\n",
    "    best_sensitivity = 0.\n",
    "\n",
    "    train_loss_list = []\n",
    "    val_loss_list = []\n",
    "\n",
    "    val_loss_log = np.empty((0, 2))\n",
    "    for epoch in tqdm(range(num_epochs)):\n",
    "        print(f'Epoch #{epoch}')\n",
    "\n",
    "        train_loss, train_time = train_epoch(model, train_dataloaders, optimizer, npc_training_loss, device)\n",
    "        val_loss, confusion_matrix, val_time = validate(model, val_dataloaders, npc_validation_loss, device)\n",
    "        scheduler.step()\n",
    "\n",
    "        val_loss_log = np.append(val_loss_log, np.array([[epoch, val_loss]]), axis=0)\n",
    "        file_path = '../loss/val_loss_log'\n",
    "        np.save(file_path, val_loss_log)\n",
    "        print(f\"loss file saved! {file_path}\")\n",
    "\n",
    "        train_loss_list.append(train_loss)\n",
    "        val_loss_list.append(val_loss)\n",
    "\n",
    "        sensitivity = confusion_matrix[1, 1]/(confusion_matrix[1, 1] + confusion_matrix[0, 1])\n",
    "        specificity = confusion_matrix[0, 0]/(confusion_matrix[0, 0] + confusion_matrix[1, 0])\n",
    "\n",
    "        is_new_best = [\n",
    "            val_loss < best_val_loss,\n",
    "            sensitivity > best_sensitivity and sensitivity != 1.0,\n",
    "            specificity > best_specificity and specificity != 1.0\n",
    "        ]\n",
    "        \n",
    "        best_val_loss = min(val_loss, best_val_loss)\n",
    "        best_specificity = max(specificity, best_specificity)\n",
    "        best_sensitivity = max(sensitivity, best_sensitivity)\n",
    "\n",
    "        save_model('../model', epoch, model, optimizer, best_val_loss, is_new_best)\n",
    "\n",
    "        print(\n",
    "            f'Trainloss = {train_loss:.4g} ValLoss = {val_loss:.4g} TrainTime = {train_time:.4f}s ValTime = {val_time:.4f}s \\n'\n",
    "            f'Sensitivity = {sensitivity:.4g} Specificity = {specificity:.4g} \\n'\n",
    "        )\n",
    "\n",
    "        if is_new_best[0]:\n",
    "            print(f'New best val loss: {best_val_loss:.4g}')\n",
    "        if is_new_best[1]:\n",
    "            print(f'New best sensitivity: {best_sensitivity:.4g}')\n",
    "        if is_new_best[2]:\n",
    "            print(f'New best specificity: {best_specificity:.4g}')\n",
    "\n",
    "    y1 = np.array([])\n",
    "    y2 = np.array([])\n",
    "    \n",
    "    for i in train_loss_list:\n",
    "        y1 = np.append(y1, i)\n",
    "    \n",
    "    for i in val_loss_list:\n",
    "        y2 = np.append(y2, i)\n",
    "    \n",
    "    x = np.arange(0, num_epochs)\n",
    "    \n",
    "    plt.plot(x, y1, 'r-.', label = 'train')\n",
    "    plt.plot(x, y2, 'b-.', label = 'val')\n",
    "    plt.legend()\n",
    "    \n",
    "    plt.title('Loss by Epoch')\n",
    "    plt.xlabel('Epoch')\n",
    "    plt.ylabel('Loss')\n",
    "    \n",
    "    plt.savefig('../figures/loss.png', dpi=300)\n",
    "\n",
    "train()"
   ]
  },
  {
   "cell_type": "code",
   "execution_count": 50,
   "metadata": {},
   "outputs": [
    {
     "data": {
      "text/plain": [
       "[720.282615852356,\n",
       " 3.2523761987686157,\n",
       " 1.443078100681305,\n",
       " 0.9137082010507583,\n",
       " 0.9641848802566528,\n",
       " 0.7769076228141785,\n",
       " 0.7703074604272843,\n",
       " 0.39413640797138216,\n",
       " 0.4687263295054436,\n",
       " 0.3645155802369118,\n",
       " 0.3160578705370426,\n",
       " 0.4090255595743656,\n",
       " 0.3208021767437458,\n",
       " 0.3052355393767357,\n",
       " 0.26127208918333056,\n",
       " 0.400729338824749,\n",
       " 0.3717788368463516,\n",
       " 0.3068317860364914,\n",
       " 0.2823922708630562,\n",
       " 0.27870768755674363,\n",
       " 0.19129448235034943,\n",
       " 0.213901524245739,\n",
       " 0.1882414311170578,\n",
       " 0.1756413035094738,\n",
       " 0.1377466104924679,\n",
       " 0.10581634938716888,\n",
       " 0.10981816872954368,\n",
       " 0.0863400012254715,\n",
       " 0.05703640878200531,\n",
       " 0.04599883444607258,\n",
       " 0.027231788635253905,\n",
       " 0.09835157133638858,\n",
       " 0.08218232654035092,\n",
       " 0.07567035853862762,\n",
       " 0.07841660790145397,\n",
       " 0.08190993703901768,\n",
       " 0.08999497070908546,\n",
       " 0.10110174492001534,\n",
       " 0.18575579896569253,\n",
       " 0.29149041324853897,\n",
       " 0.24554776549339294,\n",
       " 0.23102237582206725,\n",
       " 0.2238107368350029,\n",
       " 0.20085471272468566,\n",
       " 0.14946980476379396,\n",
       " 0.12242727875709533,\n",
       " 0.07291823904961348,\n",
       " 0.060951083153486255,\n",
       " 0.029491379018872978,\n",
       " 0.019475956074893476,\n",
       " 0.011915991501882672,\n",
       " 0.0481233689468354,\n",
       " 0.05344554660841823,\n",
       " 0.06042816638946533,\n",
       " 0.07234232686460018,\n",
       " 0.11244555674493313,\n",
       " 0.14296666607260705,\n",
       " 0.17346985191106795,\n",
       " 0.19598978906869888,\n",
       " 0.20922279804944993,\n",
       " 0.211980639398098,\n",
       " 0.20489073395729065,\n",
       " 0.1896950177848339,\n",
       " 0.16369395852088928,\n",
       " 0.13549108430743217,\n",
       " 0.10193288363516331,\n",
       " 0.06808779649436474,\n",
       " 0.042534828558564185,\n",
       " 0.02144234711304307,\n",
       " 0.01938076354563236,\n",
       " 0.026230345107614995,\n",
       " 0.07779134679585695,\n",
       " 0.10475822798907757,\n",
       " 0.12138115800917149,\n",
       " 0.10736862607300282,\n",
       " 0.09018938541412354,\n",
       " 0.13111078105866908,\n",
       " 0.18222006037831306,\n",
       " 0.2168698526918888,\n",
       " 0.24731553941965104,\n",
       " 0.17526670768857003,\n",
       " 0.1864168241620064,\n",
       " 0.1772194817662239,\n",
       " 0.16023791581392288,\n",
       " 0.12729758359491825,\n",
       " 0.10219538062810898,\n",
       " 0.07854157518595457,\n",
       " 0.042741446290165186,\n",
       " 0.03443033043295145,\n",
       " 0.017802732065320015,\n",
       " 0.011430135602131486,\n",
       " 0.027181344805285335,\n",
       " 0.030152009334415197,\n",
       " 0.055974552594125274,\n",
       " 0.06537449322640895,\n",
       " 0.09681217223405839,\n",
       " 0.12835536450147628,\n",
       " 0.15547990724444388,\n",
       " 0.17563505321741105,\n",
       " 0.18948570340871812]"
      ]
     },
     "execution_count": 50,
     "metadata": {},
     "output_type": "execute_result"
    }
   ],
   "source": [
    "train_loss_list"
   ]
  },
  {
   "cell_type": "code",
   "execution_count": 47,
   "metadata": {},
   "outputs": [
    {
     "ename": "NameError",
     "evalue": "name 'device' is not defined",
     "output_type": "error",
     "traceback": [
      "\u001b[0;31m---------------------------------------------------------------------------\u001b[0m",
      "\u001b[0;31mNameError\u001b[0m                                 Traceback (most recent call last)",
      "Cell \u001b[0;32mIn[47], line 16\u001b[0m\n\u001b[1;32m     14\u001b[0m \u001b[38;5;28;01mwith\u001b[39;00m torch\u001b[38;5;241m.\u001b[39mno_grad():  \u001b[38;5;66;03m#using context manager\u001b[39;00m\n\u001b[1;32m     15\u001b[0m     \u001b[38;5;28;01mfor\u001b[39;00m images, labels \u001b[38;5;129;01min\u001b[39;00m test_loader :\n\u001b[0;32m---> 16\u001b[0m         images, labels \u001b[38;5;241m=\u001b[39m images\u001b[38;5;241m.\u001b[39mto(\u001b[43mdevice\u001b[49m), labels\u001b[38;5;241m.\u001b[39mto(device)\n\u001b[1;32m     17\u001b[0m         output \u001b[38;5;241m=\u001b[39m model(images)\n\u001b[1;32m     18\u001b[0m         test_loss \u001b[38;5;241m+\u001b[39m\u001b[38;5;241m=\u001b[39m loss_function(output, model)[\u001b[38;5;241m0\u001b[39m]\u001b[38;5;241m.\u001b[39mitem()\n",
      "\u001b[0;31mNameError\u001b[0m: name 'device' is not defined"
     ]
    }
   ],
   "source": [
    "def npc_test_loss(output, model):\n",
    "    mean_output = torch.mean(output, dim=0)\n",
    "    distances = torch.norm(mean_output.view(1, -1, 1) - model.npc.position.data, dim=1).squeeze()\n",
    "    closest_position_index = torch.argmin(distances)\n",
    "    closest_position = model.npc.position[closest_position_index]\n",
    "    closest_label = model.npc.label[closest_position_index]\n",
    "    return torch.norm(mean_output - closest_position), closest_label\n",
    "\n",
    "model.eval()\n",
    "test_loss, correct, total = 0, 0, 0\n",
    "\n",
    "loss_function = npc_test_loss\n",
    "test_loader = torch.utils.data.DataLoader(dataset=test_dataset, batch_size=10, shuffle=False)\n",
    "with torch.no_grad():  #using context manager\n",
    "    for images, labels in test_loader :\n",
    "        images, labels = images.to(device), labels.to(device)\n",
    "        output = model(images)\n",
    "        test_loss += loss_function(output, model)[0].item()\n",
    "        pred = loss_function(output, model)[1].item()\n",
    "        correct += (pred==labels).sum().item()\n",
    "        total += labels.size(0)\n",
    "\n",
    "print('[Test set] Average loss: {:.4f}, Accuracy: {}/{} ({:.2f}%)\\n'.format(\n",
    "        test_loss /total, correct, total,\n",
    "        100. * correct / total))"
   ]
  },
  {
   "cell_type": "code",
   "execution_count": 30,
   "metadata": {},
   "outputs": [
    {
     "data": {
      "text/plain": [
       "tensor([[ 4.9216e-41],\n",
       "        [ 4.9589e-41],\n",
       "        [-4.9469e-41],\n",
       "        [ 4.9542e-41],\n",
       "        [-4.9155e-41],\n",
       "        [-5.3176e-41],\n",
       "        [-4.9478e-41],\n",
       "        [-4.9069e-41],\n",
       "        [-4.9579e-41],\n",
       "        [ 4.9275e-41],\n",
       "        [-4.9113e-41],\n",
       "        [ 4.9641e-41],\n",
       "        [ 5.4792e-41],\n",
       "        [ 4.9050e-41],\n",
       "        [ 4.9223e-41],\n",
       "        [-4.9148e-41]], device='cuda:0', grad_fn=<SelectBackward0>)"
      ]
     },
     "execution_count": 30,
     "metadata": {},
     "output_type": "execute_result"
    }
   ],
   "source": [
    "model.npc.position[231]"
   ]
  },
  {
   "cell_type": "code",
   "execution_count": 31,
   "metadata": {},
   "outputs": [
    {
     "data": {
      "image/png": "[encoded data removed]",
      "text/plain": [
       "<Figure size 640x480 with 1 Axes>"
      ]
     },
     "metadata": {},
     "output_type": "display_data"
    }
   ],
   "source": [
    "from sklearn.manifold import TSNE\n",
    "import seaborn as sns\n",
    "import matplotlib.pyplot as plt\n",
    "import pandas as pd\n",
    "\n",
    "# Convert the model.npc.position to numpy array\n",
    "positions = model.npc.position.detach().cpu().numpy().squeeze()\n",
    "\n",
    "# Convert the model.npc.label to numpy array\n",
    "labels = model.npc.label.detach().cpu().numpy()\n",
    "\n",
    "# Apply t-SNE to reduce the dimensionality\n",
    "tsne = TSNE(n_components=2, random_state=0)\n",
    "tsne_positions = tsne.fit_transform(positions)\n",
    "\n",
    "# Create a DataFrame with the t-SNE positions and labels\n",
    "df_tsne = pd.DataFrame({'x': tsne_positions[:, 0], 'y': tsne_positions[:, 1], 'label': labels})\n",
    "\n",
    "# Plot the t-SNE map with hue as the label\n",
    "sns.scatterplot(data=df_tsne, x='x', y='y', hue='label', palette='Set2')\n",
    "plt.xlabel('t-SNE 1')\n",
    "plt.ylabel('t-SNE 2')\n",
    "plt.title('t-SNE Map')\n",
    "plt.show()"
   ]
  },
  {
   "cell_type": "code",
   "execution_count": null,
   "metadata": {},
   "outputs": [],
   "source": [
    "model(torch.normal(0, 1, (1, 22, 128, 8)).to(device))"
   ]
  },
  {
   "cell_type": "code",
   "execution_count": null,
   "metadata": {},
   "outputs": [],
   "source": [
    "positions.squeeze().shape"
   ]
  },
  {
   "cell_type": "code",
   "execution_count": null,
   "metadata": {},
   "outputs": [],
   "source": [
    "import seaborn as sns\n",
    "import matplotlib.pyplot as plt\n",
    "loss_plot = train_loss_list[:20]\n",
    "sns.lineplot(x=range(len(loss_plot)), y=loss_plot)\n",
    "plt.xlabel('Epoch')\n",
    "plt.ylabel('Loss')\n",
    "plt.title('Training Loss')\n"
   ]
  },
  {
   "cell_type": "code",
   "execution_count": null,
   "metadata": {},
   "outputs": [],
   "source": [
    "a = torch.tensor(1)\n",
    "a.shape"
   ]
  }
 ],
 "metadata": {
  "kernelspec": {
   "display_name": "EEG",
   "language": "python",
   "name": "python3"
  },
  "language_info": {
   "codemirror_mode": {
    "name": "ipython",
    "version": 3
   },
   "file_extension": ".py",
   "mimetype": "text/x-python",
   "name": "python",
   "nbconvert_exporter": "python",
   "pygments_lexer": "ipython3",
   "version": "3.12.2"
  }
 },
 "nbformat": 4,
 "nbformat_minor": 2
}
