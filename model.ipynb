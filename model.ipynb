{
 "cells": [
  {
   "cell_type": "code",
   "execution_count": 10,
   "metadata": {},
   "outputs": [],
   "source": [
    "import torch\n",
    "import torch.nn as nn\n",
    "from torch.optim import Optimizer\n",
    "from torch.utils.data import DataLoader\n",
    "\n",
    "\n",
    "device = torch.device(\"cuda:0\" if torch.cuda.is_available() else \"mps\" if torch.backends.mps.is_available() else \"cpu\")\n",
    "# Set the random seed\n",
    "torch.manual_seed(0)\n",
    "\n",
    "'''\n",
    "assume that datasets are given, after preprocessing\n",
    "'''\n",
    "# Set the random seed\n",
    "torch.manual_seed(0)\n",
    "\n",
    "train_dataset = []\n",
    "for i in range(10):\n",
    "    if i <=5 :\n",
    "        train_dataset += list(zip(torch.stack([torch.normal(i, 1, (22, 128, 8)) for _ in range(50)]), torch.zeros(50, dtype=torch.int)))\n",
    "    else:\n",
    "        train_dataset += list(zip(torch.stack([torch.normal(i, 1, (22, 128, 8)) for _ in range(50)]), torch.ones(50, dtype=torch.int)))\n",
    "\n",
    "test_dataset = []\n",
    "for i in range(10):\n",
    "    if i <=5 :\n",
    "        test_dataset += list(zip(torch.stack([torch.normal(i, 1, (22, 128, 8)) for _ in range(50)]), torch.zeros(50, dtype=torch.int)))\n",
    "    else:\n",
    "        test_dataset += list(zip(torch.stack([torch.normal(i, 1, (22, 128, 8)) for _ in range(50)]), torch.ones(50, dtype=torch.int)))\n"
   ]
  },
  {
   "cell_type": "code",
   "execution_count": 15,
   "metadata": {},
   "outputs": [
    {
     "data": {
      "application/vnd.jupyter.widget-view+json": {
       "model_id": "b37ee0181003462fa2a467c7a2a9b6b9",
       "version_major": 2,
       "version_minor": 0
      },
      "text/plain": [
       "  0%|          | 0/50 [00:00<?, ?it/s]"
      ]
     },
     "metadata": {},
     "output_type": "display_data"
    },
    {
     "name": "stdout",
     "output_type": "stream",
     "text": [
      "Epoch [1] Loss: 644.6393\n",
      "Epoch [2] Loss: 49.5594\n",
      "Epoch [3] Loss: 38.9819\n",
      "Epoch [4] Loss: 26.2744\n",
      "Epoch [5] Loss: 14.9219\n",
      "Epoch [6] Loss: 6.0714\n",
      "Epoch [7] Loss: 2.6203\n",
      "Epoch [8] Loss: 1.9464\n",
      "Epoch [9] Loss: 1.1624\n",
      "Epoch [10] Loss: 0.6479\n",
      "Epoch [11] Loss: 0.3831\n",
      "Epoch [12] Loss: 0.3286\n",
      "Epoch [13] Loss: 0.2244\n",
      "Epoch [14] Loss: 0.2142\n",
      "Epoch [15] Loss: 0.2246\n",
      "Epoch [16] Loss: 0.2693\n",
      "Epoch [17] Loss: 0.2561\n",
      "Epoch [18] Loss: 0.2500\n",
      "Epoch [19] Loss: 0.2355\n",
      "Epoch [20] Loss: 0.2334\n",
      "Epoch [21] Loss: 0.2223\n",
      "Epoch [22] Loss: 0.2203\n",
      "Epoch [23] Loss: 0.2137\n",
      "Epoch [24] Loss: 0.2075\n",
      "Epoch [25] Loss: 0.2137\n",
      "Epoch [26] Loss: 0.2056\n",
      "Epoch [27] Loss: 0.2022\n",
      "Epoch [28] Loss: 0.2019\n",
      "Epoch [29] Loss: 0.2009\n",
      "Epoch [30] Loss: 0.2001\n",
      "Epoch [31] Loss: 0.1977\n",
      "Epoch [32] Loss: 0.1983\n",
      "Epoch [33] Loss: 0.1936\n",
      "Epoch [34] Loss: 0.1953\n",
      "Epoch [35] Loss: 0.1852\n",
      "Epoch [36] Loss: 0.1918\n",
      "Epoch [37] Loss: 0.1209\n",
      "Epoch [38] Loss: 0.1484\n",
      "Epoch [39] Loss: 0.1575\n",
      "Epoch [40] Loss: 0.1765\n",
      "Epoch [41] Loss: 0.2025\n",
      "Epoch [42] Loss: 0.1266\n",
      "Epoch [43] Loss: 0.1357\n",
      "Epoch [44] Loss: 0.1804\n",
      "Epoch [45] Loss: 0.1815\n",
      "Epoch [46] Loss: 0.2085\n",
      "Epoch [47] Loss: 0.1912\n",
      "Epoch [48] Loss: 0.1920\n",
      "Epoch [49] Loss: 0.1910\n",
      "Epoch [50] Loss: 0.1930\n",
      "Time ellapsed in training is: 12.59365200996399\n"
     ]
    }
   ],
   "source": [
    "# Set the random seed\n",
    "from tqdm.notebook import tqdm\n",
    "import numpy as np\n",
    "torch.manual_seed(0)\n",
    "\n",
    "class SciCNN(nn.Module):\n",
    "\n",
    "    def __init__(self):\n",
    "        super(SciCNN, self).__init__()        \n",
    "\n",
    "        self.inception1 = Inception(8, 8, 16, 8, 8)\n",
    "        self.maxpool1 = nn.MaxPool2d((1, 4), stride=(1, 4), ceil_mode=True)\n",
    "        self.inception2 = Inception(16, 16, 8, 16, 4)\n",
    "        self.maxpool2 = nn.MaxPool2d((1, 4), stride=(1, 4), ceil_mode=True)\n",
    "        self.inception3 = Inception(32, 32, 4, 32, 2)\n",
    "        self.maxpool3 = nn.MaxPool2d((1, 8), stride=(1, 8), ceil_mode=True)\n",
    "        self.flatten = nn.Flatten()\n",
    "        self.dropout = nn.Dropout(0.4)\n",
    "        self.fc = nn.Linear(22*64, 16)\n",
    "        self.npc = NPC()\n",
    "        \n",
    "        for m in self.modules():\n",
    "            if isinstance(m, nn.Conv2d) or isinstance(m, nn.Linear):\n",
    "                torch.nn.init.xavier_uniform_(m.weight)\n",
    "\n",
    "    def forward(self, x):\n",
    "        x = x.permute(0, 3, 1, 2)\n",
    "        x = self.inception1(x)\n",
    "        x = self.maxpool1(x)\n",
    "        x = self.inception2(x)\n",
    "        x = self.maxpool2(x)\n",
    "        x = self.inception3(x)\n",
    "        x = self.maxpool3(x)\n",
    "        x = self.flatten(x)\n",
    "        x = self.dropout(x)\n",
    "        x = self.fc(x)\n",
    "        return x\n",
    "\n",
    "class Inception(nn.Module):\n",
    "\n",
    "    def __init__(self, in_channels, ch1, ch1_kernel, ch2, ch2_kernel):\n",
    "        super(Inception, self).__init__()\n",
    "        self.branch1 = BasicConv1d(in_channels, ch1, kernel=(1, ch1_kernel), padding=(0, (ch1_kernel-1)//2))\n",
    "        \n",
    "        self.branch2 = BasicConv1d(in_channels, ch2, kernel=(1, ch2_kernel), padding=(0, (ch2_kernel-1)//2))\n",
    "\n",
    "    def forward(self, x):\n",
    "        branch1 = self.branch1(x)\n",
    "        branch2 = self.branch2(x)\n",
    "        return torch.cat([branch1, branch2], dim=1)\n",
    "\n",
    "class BasicConv1d(nn.Module): \n",
    "    def __init__(self, in_channels, out_channels, kernel, padding):\n",
    "        super(BasicConv1d, self).__init__()\n",
    "        self.conv = nn.Sequential(\n",
    "                            nn.Conv2d(in_channels, out_channels, kernel_size=kernel, padding=padding, bias=True),\n",
    "                            nn.BatchNorm2d(out_channels),\n",
    "                            nn.ReLU()\n",
    "                            )\n",
    "    def forward(self, x):\n",
    "        return self.conv(x)\n",
    "    \n",
    "class NPC(nn.Module):\n",
    "    def __init__(self, num_clusters=256):\n",
    "        super(NPC, self).__init__()\n",
    "        # 256 predefined positions of NPC clusters\n",
    "        self.position = nn.Parameter(torch.from_numpy(np.random.uniform(-10, 10, (num_clusters, 16, 1))).to(torch.float32), requires_grad=True)\n",
    "        self.label = nn.Parameter(torch.randint(1, (num_clusters,)), requires_grad=False)\n",
    "\n",
    "model = SciCNN().to(device)\n",
    "\n",
    "def npc_training_loss(output, label, model):\n",
    "    # output: (batch_size, 16, 1)\n",
    "    mean_output = torch.mean(output, dim=0)\n",
    "    distances = torch.norm(mean_output.view(1, -1, 1) - model.npc.position.data, dim=1).squeeze()\n",
    "    closest_position_index = torch.argmin(distances)\n",
    "    closest_position = model.npc.position[closest_position_index]\n",
    "    model.npc.label[closest_position_index] = torch.max(label)\n",
    "    loss = torch.norm(mean_output - closest_position)\n",
    "    return loss\n",
    "\n",
    "    \n",
    "\n",
    "model = SciCNN().to(device)\n",
    "loss_function = npc_training_loss\n",
    "optimizer = torch.optim.Adam(model.parameters(), lr=1e-1, weight_decay=1e-4)\n",
    "\n",
    "model.train()\n",
    "train_loader = torch.utils.data.DataLoader(dataset=train_dataset, batch_size=50, shuffle=False)\n",
    "\n",
    "train_loss_list = []\n",
    "import time\n",
    "start = time.time()\n",
    "for epoch in tqdm(range(50)):\n",
    "    loss=0\n",
    "    for i, (images, labels) in enumerate(train_loader) :\n",
    "        images, labels = images.to(device), labels.to(device)\n",
    "        optimizer.zero_grad()\n",
    "        train_loss = loss_function(model(images), labels, model)\n",
    "        loss += train_loss.item()\n",
    "        train_loss.backward()\n",
    "        optimizer.step()\n",
    "    train_loss_list.append(loss/len(train_loader))\n",
    "    print (\"Epoch [{}] Loss: {:.4f}\".format(epoch+1, loss/len(train_loader)))\n",
    "\n",
    "end = time.time()\n",
    "print(\"Time ellapsed in training is: {}\".format(end - start))\n"
   ]
  },
  {
   "cell_type": "code",
   "execution_count": 17,
   "metadata": {},
   "outputs": [
    {
     "name": "stdout",
     "output_type": "stream",
     "text": [
      "closest_label:  tensor(1, device='mps:0') index:  tensor(10, device='mps:0')\n",
      "closest_label:  tensor(1, device='mps:0') index:  tensor(10, device='mps:0')\n",
      "closest_label:  tensor(1, device='mps:0') index:  tensor(10, device='mps:0')\n",
      "closest_label:  tensor(1, device='mps:0') index:  tensor(10, device='mps:0')\n",
      "closest_label:  tensor(1, device='mps:0') index:  tensor(10, device='mps:0')\n",
      "closest_label:  tensor(1, device='mps:0') index:  tensor(10, device='mps:0')\n",
      "closest_label:  tensor(1, device='mps:0') index:  tensor(10, device='mps:0')\n",
      "closest_label:  tensor(1, device='mps:0') index:  tensor(10, device='mps:0')\n",
      "closest_label:  tensor(1, device='mps:0') index:  tensor(10, device='mps:0')\n",
      "closest_label:  tensor(1, device='mps:0') index:  tensor(10, device='mps:0')\n",
      "closest_label:  tensor(1, device='mps:0') index:  tensor(10, device='mps:0')\n",
      "closest_label:  tensor(1, device='mps:0') index:  tensor(10, device='mps:0')\n",
      "closest_label:  tensor(1, device='mps:0') index:  tensor(10, device='mps:0')\n",
      "closest_label:  tensor(1, device='mps:0') index:  tensor(10, device='mps:0')\n",
      "closest_label:  tensor(1, device='mps:0') index:  tensor(127, device='mps:0')\n",
      "closest_label:  tensor(1, device='mps:0') index:  tensor(127, device='mps:0')\n",
      "closest_label:  tensor(1, device='mps:0') index:  tensor(127, device='mps:0')\n",
      "closest_label:  tensor(1, device='mps:0') index:  tensor(127, device='mps:0')\n",
      "closest_label:  tensor(1, device='mps:0') index:  tensor(127, device='mps:0')\n",
      "closest_label:  tensor(1, device='mps:0') index:  tensor(127, device='mps:0')\n",
      "[Test set] Average loss: 7.4191, Accuracy: 200/500 (40.00%)\n",
      "\n"
     ]
    }
   ],
   "source": [
    "\n",
    "def npc_test_loss(output, model):\n",
    "    mean_output = torch.mean(output, dim=0)\n",
    "    distances = torch.norm(mean_output.view(1, -1, 1) - model.npc.position.data, dim=1).squeeze()\n",
    "    closest_position_index = torch.argmin(distances)\n",
    "    closest_position = model.npc.position[closest_position_index]\n",
    "    closest_label = model.npc.label[closest_position_index]\n",
    "    print(\"closest_label: \", closest_label, \"index: \", closest_position_index)\n",
    "    return torch.norm(mean_output - closest_position), closest_label\n",
    "\n",
    "model.eval()\n",
    "test_loss, correct, total = 0, 0, 0\n",
    "\n",
    "loss_function = npc_test_loss\n",
    "test_loader = torch.utils.data.DataLoader(dataset=test_dataset, batch_size=50, shuffle=False)\n",
    "with torch.no_grad():  #using context manager\n",
    "    for images, labels in test_loader :\n",
    "        images, labels = images.to(device), labels.to(device)\n",
    "        output = model(images)\n",
    "        test_loss += loss_function(output, model)[0].item()\n",
    "        pred = loss_function(output, model)[1].item()\n",
    "        correct += (pred==labels).sum().item()\n",
    "        total += labels.size(0)\n",
    "\n",
    "print('[Test set] Average loss: {:.4f}, Accuracy: {}/{} ({:.2f}%)\\n'.format(\n",
    "        test_loss /total, correct, total,\n",
    "        100. * correct / total))"
   ]
  },
  {
   "cell_type": "code",
   "execution_count": 18,
   "metadata": {},
   "outputs": [
    {
     "name": "stdout",
     "output_type": "stream",
     "text": [
      "Parameter containing:\n",
      "tensor([0, 0, 0, 0, 0, 0, 0, 0, 0, 0, 1, 0, 0, 0, 0, 0, 0, 0, 0, 0, 0, 0, 0, 0,\n",
      "        0, 0, 0, 0, 0, 0, 0, 0, 0, 1, 0, 0, 0, 0, 0, 0, 0, 0, 0, 0, 0, 0, 0, 0,\n",
      "        0, 0, 0, 0, 0, 0, 0, 0, 0, 0, 0, 0, 0, 0, 0, 0, 0, 0, 0, 0, 0, 0, 0, 0,\n",
      "        0, 0, 0, 0, 0, 0, 0, 0, 0, 0, 0, 0, 0, 0, 0, 0, 0, 0, 0, 0, 0, 0, 0, 0,\n",
      "        0, 0, 0, 0, 0, 0, 0, 0, 0, 0, 0, 0, 0, 0, 0, 0, 0, 0, 0, 0, 0, 0, 0, 0,\n",
      "        0, 0, 0, 0, 0, 0, 0, 1, 0, 0, 0, 0, 0, 0, 0, 0, 0, 0, 0, 0, 0, 0, 0, 0,\n",
      "        0, 0, 0, 0, 0, 0, 0, 0, 0, 0, 0, 0, 0, 0, 0, 0, 0, 0, 0, 0, 0, 0, 0, 0,\n",
      "        0, 0, 0, 0, 0, 0, 0, 0, 0, 0, 0, 0, 0, 0, 0, 0, 0, 0, 0, 0, 0, 0, 0, 0,\n",
      "        0, 0, 0, 0, 0, 0, 0, 0, 0, 0, 0, 0, 0, 0, 0, 0, 0, 0, 0, 0, 0, 0, 0, 0,\n",
      "        0, 0, 0, 0, 0, 0, 0, 0, 0, 0, 0, 0, 0, 0, 0, 0, 0, 0, 0, 0, 0, 0, 0, 0,\n",
      "        0, 0, 0, 0, 0, 0, 0, 0, 0, 0, 0, 0, 0, 0, 0, 0], device='mps:0')\n",
      "Parameter containing:\n",
      "tensor([[[ 2.0148e-12],\n",
      "         [-4.0734e-11],\n",
      "         [-7.7623e-12],\n",
      "         ...,\n",
      "         [-1.6966e-08],\n",
      "         [ 4.2859e-11],\n",
      "         [-2.5301e-11]],\n",
      "\n",
      "        [[-4.5645e-13],\n",
      "         [-6.4431e-11],\n",
      "         [ 2.1251e-11],\n",
      "         ...,\n",
      "         [ 9.8111e-09],\n",
      "         [ 2.6208e-09],\n",
      "         [ 2.3069e-09]],\n",
      "\n",
      "        [[-1.9583e-12],\n",
      "         [ 2.0279e-09],\n",
      "         [ 1.2152e-09],\n",
      "         ...,\n",
      "         [-3.4871e-10],\n",
      "         [-9.8153e-12],\n",
      "         [-1.0042e-08]],\n",
      "\n",
      "        ...,\n",
      "\n",
      "        [[ 1.2781e-10],\n",
      "         [-3.9012e-09],\n",
      "         [-2.6830e-11],\n",
      "         ...,\n",
      "         [-1.3100e-08],\n",
      "         [-7.7839e-11],\n",
      "         [-1.1672e-11]],\n",
      "\n",
      "        [[-3.1472e-12],\n",
      "         [ 2.3196e-11],\n",
      "         [-4.9128e-12],\n",
      "         ...,\n",
      "         [ 8.6062e-12],\n",
      "         [-1.2227e-09],\n",
      "         [ 7.3503e-12]],\n",
      "\n",
      "        [[ 8.1875e-11],\n",
      "         [ 5.3219e-11],\n",
      "         [-1.1737e-10],\n",
      "         ...,\n",
      "         [-1.3001e-11],\n",
      "         [-3.2376e-09],\n",
      "         [-3.0265e-11]]], device='mps:0', requires_grad=True)\n"
     ]
    }
   ],
   "source": [
    "print(model.npc.label)\n",
    "print(model.npc.position)"
   ]
  },
  {
   "cell_type": "code",
   "execution_count": 19,
   "metadata": {},
   "outputs": [
    {
     "data": {
      "image/png": "[encoded data removed]",
      "text/plain": [
       "<Figure size 640x480 with 1 Axes>"
      ]
     },
     "metadata": {},
     "output_type": "display_data"
    }
   ],
   "source": [
    "from sklearn.manifold import TSNE\n",
    "import seaborn as sns\n",
    "import matplotlib.pyplot as plt\n",
    "import pandas as pd\n",
    "\n",
    "# Convert the model.npc.position to numpy array\n",
    "positions = model.npc.position.detach().cpu().numpy().squeeze()\n",
    "\n",
    "# Convert the model.npc.label to numpy array\n",
    "labels = model.npc.label.detach().cpu().numpy()\n",
    "\n",
    "# Apply t-SNE to reduce the dimensionality\n",
    "tsne = TSNE(n_components=2, random_state=0)\n",
    "tsne_positions = tsne.fit_transform(positions)\n",
    "\n",
    "# Create a DataFrame with the t-SNE positions and labels\n",
    "df_tsne = pd.DataFrame({'x': tsne_positions[:, 0], 'y': tsne_positions[:, 1], 'label': labels})\n",
    "\n",
    "# Plot the t-SNE map with hue as the label\n",
    "sns.scatterplot(data=df_tsne, x='x', y='y', hue='label')\n",
    "plt.title('t-SNE Map')\n",
    "plt.show()\n"
   ]
  },
  {
   "cell_type": "code",
   "execution_count": 8,
   "metadata": {},
   "outputs": [
    {
     "data": {
      "text/plain": [
       "(256, 16)"
      ]
     },
     "execution_count": 8,
     "metadata": {},
     "output_type": "execute_result"
    }
   ],
   "source": [
    "positions.squeeze().shape"
   ]
  },
  {
   "cell_type": "code",
   "execution_count": 73,
   "metadata": {},
   "outputs": [
    {
     "name": "stderr",
     "output_type": "stream",
     "text": [
      "/Users/daeheonkwon/anaconda3/envs/EEG/lib/python3.12/site-packages/seaborn/_oldcore.py:1119: FutureWarning: use_inf_as_na option is deprecated and will be removed in a future version. Convert inf values to NaN before operating instead.\n",
      "  with pd.option_context('mode.use_inf_as_na', True):\n",
      "/Users/daeheonkwon/anaconda3/envs/EEG/lib/python3.12/site-packages/seaborn/_oldcore.py:1119: FutureWarning: use_inf_as_na option is deprecated and will be removed in a future version. Convert inf values to NaN before operating instead.\n",
      "  with pd.option_context('mode.use_inf_as_na', True):\n"
     ]
    },
    {
     "data": {
      "text/plain": [
       "Text(0.5, 1.0, 'Training Loss')"
      ]
     },
     "execution_count": 73,
     "metadata": {},
     "output_type": "execute_result"
    },
    {
     "data": {
      "image/png": "[encoded data removed]",
      "text/plain": [
       "<Figure size 640x480 with 1 Axes>"
      ]
     },
     "metadata": {},
     "output_type": "display_data"
    }
   ],
   "source": [
    "import seaborn as sns\n",
    "import matplotlib.pyplot as plt\n",
    "loss_plot = train_loss_list[:20]\n",
    "sns.lineplot(x=range(len(loss_plot)), y=loss_plot)\n",
    "plt.xlabel('Epoch')\n",
    "plt.ylabel('Loss')\n",
    "plt.title('Training Loss')\n"
   ]
  },
  {
   "cell_type": "code",
   "execution_count": 63,
   "metadata": {},
   "outputs": [
    {
     "ename": "NameError",
     "evalue": "name 'loss' is not defined",
     "output_type": "error",
     "traceback": [
      "\u001b[0;31m---------------------------------------------------------------------------\u001b[0m",
      "\u001b[0;31mNameError\u001b[0m                                 Traceback (most recent call last)",
      "Cell \u001b[0;32mIn[63], line 1\u001b[0m\n\u001b[0;32m----> 1\u001b[0m \u001b[43mloss\u001b[49m\n",
      "\u001b[0;31mNameError\u001b[0m: name 'loss' is not defined"
     ]
    }
   ],
   "source": [
    "loss"
   ]
  }
 ],
 "metadata": {
  "kernelspec": {
   "display_name": "EEG",
   "language": "python",
   "name": "python3"
  },
  "language_info": {
   "codemirror_mode": {
    "name": "ipython",
    "version": 3
   },
   "file_extension": ".py",
   "mimetype": "text/x-python",
   "name": "python",
   "nbconvert_exporter": "python",
   "pygments_lexer": "ipython3",
   "version": "3.12.2"
  }
 },
 "nbformat": 4,
 "nbformat_minor": 2
}
