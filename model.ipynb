{
 "cells": [
  {
   "cell_type": "code",
   "execution_count": 1,
   "metadata": {},
   "outputs": [],
   "source": [
    "import torch\n",
    "import torch.nn as nn\n",
    "from torch.optim import Optimizer\n",
    "from torch.utils.data import DataLoader\n",
    "\n",
    "\n",
    "device = torch.device(\"cuda:0\" if torch.cuda.is_available() else \"cpu\")\n",
    "# Set the random seed\n",
    "torch.manual_seed(0)\n",
    "\n",
    "'''\n",
    "assume that datasets are given, after preprocessing\n",
    "'''\n",
    "# Set the random seed\n",
    "torch.manual_seed(0)\n",
    "\n",
    "train_dataset = []\n",
    "for i in range(10):\n",
    "    if i <=5 :\n",
    "        train_dataset += list(zip(torch.stack([torch.normal(0, 1, (22, 128, 8)) for _ in range(50)]), torch.zeros(50, dtype=torch.int)))\n",
    "    else:\n",
    "        train_dataset += list(zip(torch.stack([torch.normal(5, 1, (22, 128, 8)) for _ in range(50)]), torch.ones(50, dtype=torch.int)))\n",
    "\n",
    "test_dataset = []\n",
    "for i in range(10):\n",
    "    if i <=5 :\n",
    "        test_dataset += list(zip(torch.stack([torch.normal(0, 1, (22, 128, 8)) for _ in range(50)]), torch.zeros(50, dtype=torch.int)))\n",
    "    else:\n",
    "        test_dataset += list(zip(torch.stack([torch.normal(5, 1, (22, 128, 8)) for _ in range(50)]), torch.ones(50, dtype=torch.int)))\n"
   ]
  },
  {
   "cell_type": "code",
   "execution_count": 83,
   "metadata": {},
   "outputs": [],
   "source": [
    "import os\n",
    "import torch\n",
    "from torch.utils.data import Dataset, DataLoader, TensorDataset\n",
    "\n",
    "class CustomEEGDataset(Dataset):\n",
    "    def __init__(self, dataset, transform=None, target_transform=None):\n",
    "        self.raw = dataset\n",
    "        self.EEG = torch.stack([t[0] for t in self.raw])\n",
    "        self.labels = torch.stack([t[1] for t in self.raw])\n",
    "        self.transform = transform\n",
    "        self.target_transform = target_transform\n",
    "\n",
    "    def __len__(self):\n",
    "        return len(self.labels)\n",
    "\n",
    "    def __getitem__(self, idx):\n",
    "        image = self.EEG[idx]\n",
    "        label = self.labels[idx]\n",
    "        if self.transform:\n",
    "            image = self.transform(image)\n",
    "        if self.target_transform:\n",
    "            label = self.target_transform(label)\n",
    "        return image, label"
   ]
  },
  {
   "cell_type": "code",
   "execution_count": 80,
   "metadata": {},
   "outputs": [],
   "source": [
    "from torch.utils.data import DataLoader, random_split, Subset\n",
    "generator = torch.Generator().manual_seed(42)\n",
    "chb01 = torch.load('/home/dhyun/project/FYP/chb01.pt')\n",
    "train_dataset, test_dataset = random_split(chb01, [int(len(chb01)*0.8), len(chb01) - int(len(chb01)*0.8)], generator=generator)\n"
   ]
  },
  {
   "cell_type": "code",
   "execution_count": 117,
   "metadata": {},
   "outputs": [],
   "source": [
    "train_dataset = CustomEEGDataset(train_dataset)\n",
    "test_dataset = CustomEEGDataset(test_dataset)\n",
    "\n",
    "def get_dataloaders(dataset, batch_size=50):\n",
    "    class_inds = [torch.where(dataset.labels == class_idx)[0]\n",
    "                for class_idx in torch.unique(dataset.labels)]\n",
    "\n",
    "    dataloaders = [\n",
    "        DataLoader(\n",
    "            dataset=Subset(dataset, inds),\n",
    "            batch_size=batch_size,\n",
    "            shuffle=True,\n",
    "            drop_last=False)\n",
    "        for inds in class_inds]\n",
    "    \n",
    "    return dataloaders\n",
    "\n",
    "train_dataloaders = get_dataloaders(train_dataset)\n",
    "itrs = list(map(iter, train_dataloaders))\n",
    "itrs"
   ]
  },
  {
   "cell_type": "code",
   "execution_count": 120,
   "metadata": {},
   "outputs": [
    {
     "data": {
      "text/plain": [
       "<torch.utils.data.dataloader._SingleProcessDataLoaderIter at 0x7f6d31a4a2d0>"
      ]
     },
     "execution_count": 120,
     "metadata": {},
     "output_type": "execute_result"
    }
   ],
   "source": [
    "a = np.random.choice(iterators)\n"
   ]
  },
  {
   "cell_type": "code",
   "execution_count": 121,
   "metadata": {},
   "outputs": [
    {
     "data": {
      "text/plain": [
       "2329"
      ]
     },
     "execution_count": 121,
     "metadata": {},
     "output_type": "execute_result"
    }
   ],
   "source": [
    "len(a)"
   ]
  },
  {
   "cell_type": "code",
   "execution_count": 122,
   "metadata": {},
   "outputs": [
    {
     "data": {
      "application/vnd.jupyter.widget-view+json": {
       "model_id": "85ad29d2c52b4d579f8f8b4ff4df54b7",
       "version_major": 2,
       "version_minor": 0
      },
      "text/plain": [
       "  0%|          | 0/50 [00:00<?, ?it/s]"
      ]
     },
     "metadata": {},
     "output_type": "display_data"
    },
    {
     "name": "stdout",
     "output_type": "stream",
     "text": [
      "Epoch [1] Loss: 0.7275\n",
      "Epoch [2] Loss: 0.3151\n",
      "Epoch [3] Loss: 0.3067\n"
     ]
    }
   ],
   "source": [
    "# Set the random seed\n",
    "from tqdm.notebook import tqdm\n",
    "import numpy as np\n",
    "torch.manual_seed(0)\n",
    "\n",
    "class SciCNN(nn.Module):\n",
    "\n",
    "    def __init__(self):\n",
    "        super(SciCNN, self).__init__()        \n",
    "\n",
    "        self.inception1 = Inception(8, 8, 16, 8, 8)\n",
    "        self.maxpool1 = nn.MaxPool2d((1, 4), stride=(1, 4), ceil_mode=True)\n",
    "        self.inception2 = Inception(16, 16, 8, 16, 4)\n",
    "        self.maxpool2 = nn.MaxPool2d((1, 4), stride=(1, 4), ceil_mode=True)\n",
    "        self.inception3 = Inception(32, 32, 4, 32, 2)\n",
    "        self.maxpool3 = nn.MaxPool2d((1, 8), stride=(1, 8), ceil_mode=True)\n",
    "        self.flatten = nn.Flatten()\n",
    "        self.dropout = nn.Dropout(0.4)\n",
    "        self.fc = nn.Linear(22*64, 16)\n",
    "        self.npc = NPC()\n",
    "        \n",
    "        for m in self.modules():\n",
    "            if isinstance(m, nn.Conv2d) or isinstance(m, nn.Linear):\n",
    "                torch.nn.init.xavier_uniform_(m.weight)\n",
    "\n",
    "    def forward(self, x):\n",
    "        x = x.permute(0, 3, 1, 2)\n",
    "        x = self.inception1(x)\n",
    "        x = self.maxpool1(x)\n",
    "        x = self.inception2(x)\n",
    "        x = self.maxpool2(x)\n",
    "        x = self.inception3(x)\n",
    "        x = self.maxpool3(x)\n",
    "        x = self.flatten(x)\n",
    "        x = self.dropout(x)\n",
    "        x = self.fc(x)\n",
    "        return x\n",
    "\n",
    "class Inception(nn.Module):\n",
    "    def __init__(self, in_channels, ch1, ch1_kernel, ch2, ch2_kernel):\n",
    "        super(Inception, self).__init__()\n",
    "        self.branch1 = BasicConv1d(in_channels, ch1, kernel=(1, ch1_kernel), padding=(0, (ch1_kernel-1)//2))\n",
    "        self.branch2 = BasicConv1d(in_channels, ch2, kernel=(1, ch2_kernel), padding=(0, (ch2_kernel-1)//2))\n",
    "        self.se = SEModule()\n",
    "\n",
    "    def forward(self, x):\n",
    "        branch1 = self.branch1(x)\n",
    "        branch2 = self.branch2(x)\n",
    "        concat = torch.cat([branch1, branch2], dim=1)\n",
    "        return self.se(concat)\n",
    "        \n",
    "class SEModule(nn.Module):\n",
    "    def __init__(self, channels=22, reduction=4):\n",
    "        super(SEModule, self).__init__()\n",
    "        self.globalAvgPool = nn.AdaptiveAvgPool2d(1)\n",
    "        self.fc = nn.Sequential(\n",
    "            nn.Linear(channels, channels // reduction),\n",
    "            nn.ReLU(),\n",
    "            nn.Linear(channels // reduction, channels),\n",
    "            nn.Sigmoid()\n",
    "        )\n",
    "\n",
    "    def forward(self, x):\n",
    "        x = x.permute(0, 2, 3, 1)\n",
    "        out = torch.squeeze(self.globalAvgPool(x))\n",
    "        out = self.fc(out).view(x.size(0), x.size(1), 1, 1)\n",
    "        out = x * out.expand_as(x)\n",
    "        return out.permute(0, 3, 1, 2)\n",
    "    \n",
    "class BasicConv1d(nn.Module): \n",
    "    def __init__(self, in_channels, out_channels, kernel, padding):\n",
    "        super(BasicConv1d, self).__init__()\n",
    "        self.conv = nn.Sequential(\n",
    "                            nn.Conv2d(in_channels, out_channels, kernel_size=kernel, padding=padding, bias=True),\n",
    "                            nn.BatchNorm2d(out_channels),\n",
    "                            nn.ReLU()\n",
    "                            )\n",
    "    def forward(self, x):\n",
    "        return self.conv(x)\n",
    "    \n",
    "class NPC(nn.Module):\n",
    "    def __init__(self, num_clusters=64):\n",
    "        super(NPC, self).__init__()\n",
    "        # 256 predefined positions of NPC clusters\n",
    "        self.position = nn.Parameter(torch.from_numpy(np.random.uniform(0, 1, (num_clusters, 16, 1))).to(torch.float32), requires_grad=True)\n",
    "        self.label = nn.Parameter(2*torch.ones(num_clusters), requires_grad=False)\n",
    "\n",
    "model = SciCNN().to(device)\n",
    "\n",
    "def npc_training_loss(output, label, model):\n",
    "    # output: (batch_size, 16, 1)\n",
    "    mean_output = torch.mean(output, dim=0)\n",
    "    distances = torch.norm(mean_output.view(1, -1, 1) - model.npc.position.data, dim=1).squeeze()\n",
    "    closest_position_index = torch.argmin(distances)\n",
    "    closest_position = model.npc.position[closest_position_index]\n",
    "    model.npc.label[closest_position_index] = torch.max(label)\n",
    "    loss = torch.norm(mean_output - closest_position)\n",
    "    return loss\n",
    "\n",
    "\n",
    "model = SciCNN().to(device)\n",
    "loss_function = npc_training_loss\n",
    "optimizer = torch.optim.Adam(model.parameters(), lr=1e-1, weight_decay=1e-4)\n",
    "\n",
    "model.train()\n",
    "\n",
    "train_dataloaders = get_dataloaders(train_dataset)\n",
    "train_loss_list = []\n",
    "import time\n",
    "start = time.time()\n",
    "for epoch in tqdm(range(50)):\n",
    "    loss=0\n",
    "    iterators = list(map(iter, train_dataloaders))\n",
    "    total_length = len(iterators[0]) + len(iterators[1])\n",
    "    while iterators:\n",
    "        try:\n",
    "            iterator = np.random.choice(iterators)\n",
    "            images, labels = next(iterator)\n",
    "            images, labels = images.to(device), labels.to(device)\n",
    "            optimizer.zero_grad()\n",
    "            train_loss = loss_function(model(images), labels, model)\n",
    "            loss += train_loss.item()\n",
    "            train_loss.backward()\n",
    "            optimizer.step()\n",
    "        except StopIteration:\n",
    "            iterators.remove(iterator)\n",
    "    train_loss_list.append(loss/total_length)\n",
    "    print (\"Epoch [{}] Loss: {:.4f}\".format(epoch+1, loss/total_length))\n",
    "\n",
    "end = time.time()\n",
    "print(\"Time ellapsed in training is: {}\".format(end - start))"
   ]
  },
  {
   "cell_type": "code",
   "execution_count": null,
   "metadata": {},
   "outputs": [],
   "source": [
    "def npc_test_loss(output, model):\n",
    "    mean_output = torch.mean(output, dim=0)\n",
    "    distances = torch.norm(mean_output.view(1, -1, 1) - model.npc.position.data, dim=1).squeeze()\n",
    "    closest_position_index = torch.argmin(distances)\n",
    "    closest_position = model.npc.position[closest_position_index]\n",
    "    closest_label = model.npc.label[closest_position_index]\n",
    "    print(\"closest_label: \", closest_label, \"index: \", closest_position_index)\n",
    "    return torch.norm(mean_output - closest_position), closest_label\n",
    "\n",
    "model.eval()\n",
    "test_loss, correct, total = 0, 0, 0\n",
    "\n",
    "loss_function = npc_test_loss\n",
    "test_loader = torch.utils.data.DataLoader(dataset=test_dataset, batch_size=10, shuffle=False)\n",
    "with torch.no_grad():  #using context manager\n",
    "    for images, labels in test_loader :\n",
    "        images, labels = images.to(device), labels.to(device)\n",
    "        output = model(images)\n",
    "        test_loss += loss_function(output, model)[0].item()\n",
    "        pred = loss_function(output, model)[1].item()\n",
    "        correct += (pred==labels).sum().item()\n",
    "        total += labels.size(0)\n",
    "\n",
    "print('[Test set] Average loss: {:.4f}, Accuracy: {}/{} ({:.2f}%)\\n'.format(\n",
    "        test_loss /total, correct, total,\n",
    "        100. * correct / total))"
   ]
  },
  {
   "cell_type": "code",
   "execution_count": null,
   "metadata": {},
   "outputs": [],
   "source": [
    "print(model.npc.label)\n",
    "print(model.npc.position)\n",
    "for i in range(64):\n",
    "    if model.npc.label[i].item() != 2:\n",
    "        print(model.npc.label[i].item(), model.npc.position[i].data)"
   ]
  },
  {
   "cell_type": "code",
   "execution_count": null,
   "metadata": {},
   "outputs": [],
   "source": [
    "from sklearn.manifold import TSNE\n",
    "import seaborn as sns\n",
    "import matplotlib.pyplot as plt\n",
    "import pandas as pd\n",
    "\n",
    "# Convert the model.npc.position to numpy array\n",
    "positions = model.npc.position.detach().cpu().numpy().squeeze()\n",
    "\n",
    "# Convert the model.npc.label to numpy array\n",
    "labels = model.npc.label.detach().cpu().numpy()\n",
    "\n",
    "# Apply t-SNE to reduce the dimensionality\n",
    "tsne = TSNE(n_components=2, random_state=0)\n",
    "tsne_positions = tsne.fit_transform(positions)\n",
    "\n",
    "# Create a DataFrame with the t-SNE positions and labels\n",
    "df_tsne = pd.DataFrame({'x': tsne_positions[:, 0], 'y': tsne_positions[:, 1], 'label': labels})\n",
    "\n",
    "# Plot the t-SNE map with hue as the label\n",
    "sns.scatterplot(data=df_tsne, x='x', y='y', hue='label', palette='Set2')\n",
    "plt.xlabel('t-SNE 1')\n",
    "plt.ylabel('t-SNE 2')\n",
    "plt.title('t-SNE Map')\n",
    "plt.show()"
   ]
  },
  {
   "cell_type": "code",
   "execution_count": null,
   "metadata": {},
   "outputs": [],
   "source": [
    "model(torch.normal(0, 1, (1, 22, 128, 8)).to(device))"
   ]
  },
  {
   "cell_type": "code",
   "execution_count": null,
   "metadata": {},
   "outputs": [],
   "source": [
    "positions.squeeze().shape"
   ]
  },
  {
   "cell_type": "code",
   "execution_count": null,
   "metadata": {},
   "outputs": [],
   "source": [
    "import seaborn as sns\n",
    "import matplotlib.pyplot as plt\n",
    "loss_plot = train_loss_list[:20]\n",
    "sns.lineplot(x=range(len(loss_plot)), y=loss_plot)\n",
    "plt.xlabel('Epoch')\n",
    "plt.ylabel('Loss')\n",
    "plt.title('Training Loss')\n"
   ]
  },
  {
   "cell_type": "code",
   "execution_count": null,
   "metadata": {},
   "outputs": [],
   "source": [
    "a = torch.tensor(1)\n",
    "a.shape"
   ]
  }
 ],
 "metadata": {
  "kernelspec": {
   "display_name": "EEG",
   "language": "python",
   "name": "python3"
  },
  "language_info": {
   "codemirror_mode": {
    "name": "ipython",
    "version": 3
   },
   "file_extension": ".py",
   "mimetype": "text/x-python",
   "name": "python",
   "nbconvert_exporter": "python",
   "pygments_lexer": "ipython3",
   "version": "3.12.3"
  }
 },
 "nbformat": 4,
 "nbformat_minor": 2
}
